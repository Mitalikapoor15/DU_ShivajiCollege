{
 "cells": [
  {
   "cell_type": "code",
   "execution_count": 1,
   "id": "ee7adccc",
   "metadata": {},
   "outputs": [],
   "source": [
    "import numpy as np"
   ]
  },
  {
   "cell_type": "code",
   "execution_count": 2,
   "id": "70a8e02c",
   "metadata": {},
   "outputs": [
    {
     "data": {
      "text/plain": [
       "array([ 4,  3, 65, 78,  1])"
      ]
     },
     "execution_count": 2,
     "metadata": {},
     "output_type": "execute_result"
    }
   ],
   "source": [
    "np.array([4,3,65,78,1])"
   ]
  },
  {
   "cell_type": "code",
   "execution_count": 3,
   "id": "2f5a9751",
   "metadata": {},
   "outputs": [
    {
     "data": {
      "text/plain": [
       "array([3. , 2. , 7. , 9. , 5.4])"
      ]
     },
     "execution_count": 3,
     "metadata": {},
     "output_type": "execute_result"
    }
   ],
   "source": [
    "np.array([3,2,7,9,5.4])"
   ]
  },
  {
   "cell_type": "code",
   "execution_count": 4,
   "id": "e84891d9",
   "metadata": {},
   "outputs": [
    {
     "data": {
      "text/plain": [
       "array(['3', '2', '7', '9', '5.4', '4'], dtype='<U32')"
      ]
     },
     "execution_count": 4,
     "metadata": {},
     "output_type": "execute_result"
    }
   ],
   "source": [
    "np.array([3,2,7,9,5.4,'4'])"
   ]
  },
  {
   "cell_type": "code",
   "execution_count": 5,
   "id": "3c827515",
   "metadata": {},
   "outputs": [
    {
     "data": {
      "text/plain": [
       "array([3. , 2. , 7. , 9. , 5.4, 1. ])"
      ]
     },
     "execution_count": 5,
     "metadata": {},
     "output_type": "execute_result"
    }
   ],
   "source": [
    "np.array([3,2,7,9,5.4,True])"
   ]
  },
  {
   "cell_type": "code",
   "execution_count": 6,
   "id": "fb550448",
   "metadata": {},
   "outputs": [
    {
     "data": {
      "text/plain": [
       "array([ 1,  2,  3,  4,  5,  6,  7,  8,  9, 10])"
      ]
     },
     "execution_count": 6,
     "metadata": {},
     "output_type": "execute_result"
    }
   ],
   "source": [
    "np.arange(1,11)"
   ]
  },
  {
   "cell_type": "code",
   "execution_count": 7,
   "id": "0fe448eb",
   "metadata": {},
   "outputs": [
    {
     "data": {
      "text/plain": [
       "array([ 2,  4,  6,  8, 10, 12, 14, 16, 18, 20])"
      ]
     },
     "execution_count": 7,
     "metadata": {},
     "output_type": "execute_result"
    }
   ],
   "source": [
    "np.arange(2,21,2)"
   ]
  },
  {
   "cell_type": "code",
   "execution_count": 8,
   "id": "665f5bde",
   "metadata": {},
   "outputs": [
    {
     "data": {
      "text/plain": [
       "array([ 1.        ,  1.3877551 ,  1.7755102 ,  2.16326531,  2.55102041,\n",
       "        2.93877551,  3.32653061,  3.71428571,  4.10204082,  4.48979592,\n",
       "        4.87755102,  5.26530612,  5.65306122,  6.04081633,  6.42857143,\n",
       "        6.81632653,  7.20408163,  7.59183673,  7.97959184,  8.36734694,\n",
       "        8.75510204,  9.14285714,  9.53061224,  9.91836735, 10.30612245,\n",
       "       10.69387755, 11.08163265, 11.46938776, 11.85714286, 12.24489796,\n",
       "       12.63265306, 13.02040816, 13.40816327, 13.79591837, 14.18367347,\n",
       "       14.57142857, 14.95918367, 15.34693878, 15.73469388, 16.12244898,\n",
       "       16.51020408, 16.89795918, 17.28571429, 17.67346939, 18.06122449,\n",
       "       18.44897959, 18.83673469, 19.2244898 , 19.6122449 , 20.        ])"
      ]
     },
     "execution_count": 8,
     "metadata": {},
     "output_type": "execute_result"
    }
   ],
   "source": [
    "# linspace - linear space\n",
    "# it will generate 50 elements in that range with equal interval\n",
    "np.linspace(1,20)"
   ]
  },
  {
   "cell_type": "code",
   "execution_count": 10,
   "id": "9ec0000a",
   "metadata": {},
   "outputs": [
    {
     "data": {
      "text/plain": [
       "(array([ 1.        ,  1.79166667,  2.58333333,  3.375     ,  4.16666667,\n",
       "         4.95833333,  5.75      ,  6.54166667,  7.33333333,  8.125     ,\n",
       "         8.91666667,  9.70833333, 10.5       , 11.29166667, 12.08333333,\n",
       "        12.875     , 13.66666667, 14.45833333, 15.25      , 16.04166667,\n",
       "        16.83333333, 17.625     , 18.41666667, 19.20833333, 20.        ]),\n",
       " 0.7916666666666666)"
      ]
     },
     "execution_count": 10,
     "metadata": {},
     "output_type": "execute_result"
    }
   ],
   "source": [
    "np.linspace(1,20, num=25, retstep=True)"
   ]
  },
  {
   "cell_type": "code",
   "execution_count": 11,
   "id": "aa90ead6",
   "metadata": {},
   "outputs": [
    {
     "data": {
      "text/plain": [
       "array([0., 0., 0., 0., 0.])"
      ]
     },
     "execution_count": 11,
     "metadata": {},
     "output_type": "execute_result"
    }
   ],
   "source": [
    "np.zeros(5)"
   ]
  },
  {
   "cell_type": "code",
   "execution_count": 12,
   "id": "cdf83949",
   "metadata": {},
   "outputs": [
    {
     "data": {
      "text/plain": [
       "array([[0., 0., 0., 0., 0.],\n",
       "       [0., 0., 0., 0., 0.],\n",
       "       [0., 0., 0., 0., 0.],\n",
       "       [0., 0., 0., 0., 0.],\n",
       "       [0., 0., 0., 0., 0.]])"
      ]
     },
     "execution_count": 12,
     "metadata": {},
     "output_type": "execute_result"
    }
   ],
   "source": [
    "np.zeros([5,5])"
   ]
  },
  {
   "cell_type": "code",
   "execution_count": 13,
   "id": "456c6f7b",
   "metadata": {},
   "outputs": [
    {
     "data": {
      "text/plain": [
       "array([1., 1., 1., 1., 1.])"
      ]
     },
     "execution_count": 13,
     "metadata": {},
     "output_type": "execute_result"
    }
   ],
   "source": [
    "np.ones(5,)"
   ]
  },
  {
   "cell_type": "code",
   "execution_count": 15,
   "id": "aef57e8f",
   "metadata": {},
   "outputs": [
    {
     "data": {
      "text/plain": [
       "array([[1., 1., 1., 1.],\n",
       "       [1., 1., 1., 1.],\n",
       "       [1., 1., 1., 1.]])"
      ]
     },
     "execution_count": 15,
     "metadata": {},
     "output_type": "execute_result"
    }
   ],
   "source": [
    "np.ones((3,4))"
   ]
  },
  {
   "cell_type": "code",
   "execution_count": 16,
   "id": "8fc7d95a",
   "metadata": {},
   "outputs": [
    {
     "data": {
      "text/plain": [
       "array([[1., 0., 0., 0., 0.],\n",
       "       [0., 1., 0., 0., 0.],\n",
       "       [0., 0., 1., 0., 0.],\n",
       "       [0., 0., 0., 1., 0.],\n",
       "       [0., 0., 0., 0., 1.]])"
      ]
     },
     "execution_count": 16,
     "metadata": {},
     "output_type": "execute_result"
    }
   ],
   "source": [
    "np.identity(5)"
   ]
  },
  {
   "cell_type": "code",
   "execution_count": 20,
   "id": "e875bc9e",
   "metadata": {},
   "outputs": [
    {
     "data": {
      "text/plain": [
       "array([[1, 1, 1, 1],\n",
       "       [1, 1, 1, 1],\n",
       "       [1, 1, 1, 1]])"
      ]
     },
     "execution_count": 20,
     "metadata": {},
     "output_type": "execute_result"
    }
   ],
   "source": [
    "np.ones((3,4), dtype='int32')"
   ]
  },
  {
   "cell_type": "code",
   "execution_count": 22,
   "id": "d21d1f09",
   "metadata": {},
   "outputs": [
    {
     "data": {
      "text/plain": [
       "0.11545992414965656"
      ]
     },
     "execution_count": 22,
     "metadata": {},
     "output_type": "execute_result"
    }
   ],
   "source": [
    "# will generate a random number b/w 0 and 1\n",
    "np.random.random()"
   ]
  },
  {
   "cell_type": "code",
   "execution_count": 23,
   "id": "ff456b57",
   "metadata": {},
   "outputs": [
    {
     "data": {
      "text/plain": [
       "array([0.15282216, 0.57158836, 0.44790419, 0.51391708, 0.96849675,\n",
       "       0.56866643, 0.7857207 , 0.05907881, 0.86642625, 0.58628617])"
      ]
     },
     "execution_count": 23,
     "metadata": {},
     "output_type": "execute_result"
    }
   ],
   "source": [
    "np.random.random(10)"
   ]
  },
  {
   "cell_type": "code",
   "execution_count": 24,
   "id": "0e09c301",
   "metadata": {},
   "outputs": [
    {
     "data": {
      "text/plain": [
       "array([[0.54455889, 0.9648364 , 0.42781475, 0.51704863, 0.92907419],\n",
       "       [0.64416369, 0.49622088, 0.45565191, 0.33641145, 0.37890478],\n",
       "       [0.30644384, 0.00790359, 0.64308142, 0.69353296, 0.53016405],\n",
       "       [0.97966929, 0.18739322, 0.08286385, 0.33093441, 0.63820397]])"
      ]
     },
     "execution_count": 24,
     "metadata": {},
     "output_type": "execute_result"
    }
   ],
   "source": [
    "np.random.random((4,5))"
   ]
  },
  {
   "cell_type": "code",
   "execution_count": 25,
   "id": "3551e289",
   "metadata": {},
   "outputs": [
    {
     "data": {
      "text/plain": [
       "5"
      ]
     },
     "execution_count": 25,
     "metadata": {},
     "output_type": "execute_result"
    }
   ],
   "source": [
    "# will generate a random number b/w particular range\n",
    "np.random.randint(1,10)"
   ]
  },
  {
   "cell_type": "code",
   "execution_count": 26,
   "id": "3abee745",
   "metadata": {},
   "outputs": [
    {
     "data": {
      "text/plain": [
       "array([8, 6, 7, 2, 8, 3])"
      ]
     },
     "execution_count": 26,
     "metadata": {},
     "output_type": "execute_result"
    }
   ],
   "source": [
    "np.random.randint(1,10,6)"
   ]
  },
  {
   "cell_type": "code",
   "execution_count": 27,
   "id": "2bb57170",
   "metadata": {},
   "outputs": [
    {
     "data": {
      "text/plain": [
       "array([[16, 47, 17, 27],\n",
       "       [54, 75, 71, 20],\n",
       "       [10,  9, 17, 26],\n",
       "       [24, 44, 61, 22],\n",
       "       [16, 71, 61, 53],\n",
       "       [90, 55, 42, 83]])"
      ]
     },
     "execution_count": 27,
     "metadata": {},
     "output_type": "execute_result"
    }
   ],
   "source": [
    "np.random.randint(1,100,(6,4))"
   ]
  },
  {
   "cell_type": "code",
   "execution_count": 28,
   "id": "b1fc5c87",
   "metadata": {},
   "outputs": [],
   "source": [
    "# Indexing and Slicing of array"
   ]
  },
  {
   "cell_type": "code",
   "execution_count": 29,
   "id": "2d54d89b",
   "metadata": {},
   "outputs": [],
   "source": [
    "x = np.random.randint(1,50,24)"
   ]
  },
  {
   "cell_type": "code",
   "execution_count": 30,
   "id": "2a46752d",
   "metadata": {},
   "outputs": [
    {
     "data": {
      "text/plain": [
       "array([46, 18, 16,  8, 22, 35, 39, 20, 26, 46, 13, 39, 17, 27, 49,  6, 48,\n",
       "       23, 14, 22,  5, 43,  5, 34])"
      ]
     },
     "execution_count": 30,
     "metadata": {},
     "output_type": "execute_result"
    }
   ],
   "source": [
    "x"
   ]
  },
  {
   "cell_type": "code",
   "execution_count": 31,
   "id": "354f3371",
   "metadata": {},
   "outputs": [
    {
     "data": {
      "text/plain": [
       "46"
      ]
     },
     "execution_count": 31,
     "metadata": {},
     "output_type": "execute_result"
    }
   ],
   "source": [
    "x[0]"
   ]
  },
  {
   "cell_type": "code",
   "execution_count": 32,
   "id": "a3249820",
   "metadata": {},
   "outputs": [
    {
     "data": {
      "text/plain": [
       "34"
      ]
     },
     "execution_count": 32,
     "metadata": {},
     "output_type": "execute_result"
    }
   ],
   "source": [
    "x[-1]"
   ]
  },
  {
   "cell_type": "code",
   "execution_count": 33,
   "id": "0d3c8659",
   "metadata": {},
   "outputs": [
    {
     "data": {
      "text/plain": [
       "array([46, 18, 16,  8, 22])"
      ]
     },
     "execution_count": 33,
     "metadata": {},
     "output_type": "execute_result"
    }
   ],
   "source": [
    "x[0:5]"
   ]
  },
  {
   "cell_type": "code",
   "execution_count": 34,
   "id": "15e87d9b",
   "metadata": {},
   "outputs": [
    {
     "data": {
      "text/plain": [
       "array([46, 18, 16,  8, 22, 35, 39, 20, 26, 46, 13, 39, 17, 27, 49,  6, 48,\n",
       "       23, 14, 22,  5, 43,  5, 34])"
      ]
     },
     "execution_count": 34,
     "metadata": {},
     "output_type": "execute_result"
    }
   ],
   "source": [
    "x"
   ]
  },
  {
   "cell_type": "code",
   "execution_count": 35,
   "id": "01d748a0",
   "metadata": {},
   "outputs": [
    {
     "data": {
      "text/plain": [
       "array([46, 16, 22, 39, 26])"
      ]
     },
     "execution_count": 35,
     "metadata": {},
     "output_type": "execute_result"
    }
   ],
   "source": [
    "x[0:10:2]"
   ]
  },
  {
   "cell_type": "code",
   "execution_count": 36,
   "id": "2c0b79aa",
   "metadata": {},
   "outputs": [
    {
     "data": {
      "text/plain": [
       "array([34,  5, 43,  5, 22, 14, 23, 48,  6, 49, 27, 17, 39, 13, 46, 26, 20,\n",
       "       39, 35, 22,  8, 16, 18, 46])"
      ]
     },
     "execution_count": 36,
     "metadata": {},
     "output_type": "execute_result"
    }
   ],
   "source": [
    "x[::-1]"
   ]
  },
  {
   "cell_type": "code",
   "execution_count": 37,
   "id": "606a3bc0",
   "metadata": {},
   "outputs": [],
   "source": [
    "x = np.random.randint(1,50,(4,6))"
   ]
  },
  {
   "cell_type": "code",
   "execution_count": 38,
   "id": "bd2e6f8a",
   "metadata": {},
   "outputs": [
    {
     "data": {
      "text/plain": [
       "array([[31, 31, 16, 29,  3, 12],\n",
       "       [ 4, 17, 18, 42, 19, 23],\n",
       "       [22, 37, 11, 46, 15,  9],\n",
       "       [41, 19, 14, 45, 16, 14]])"
      ]
     },
     "execution_count": 38,
     "metadata": {},
     "output_type": "execute_result"
    }
   ],
   "source": [
    "x"
   ]
  },
  {
   "cell_type": "code",
   "execution_count": 39,
   "id": "07316cda",
   "metadata": {},
   "outputs": [
    {
     "data": {
      "text/plain": [
       "array([31, 31, 16, 29,  3, 12])"
      ]
     },
     "execution_count": 39,
     "metadata": {},
     "output_type": "execute_result"
    }
   ],
   "source": [
    "x[0]"
   ]
  },
  {
   "cell_type": "code",
   "execution_count": 40,
   "id": "d1fdfc5f",
   "metadata": {},
   "outputs": [
    {
     "data": {
      "text/plain": [
       "31"
      ]
     },
     "execution_count": 40,
     "metadata": {},
     "output_type": "execute_result"
    }
   ],
   "source": [
    "x[0][1]"
   ]
  },
  {
   "cell_type": "code",
   "execution_count": 41,
   "id": "cf0ab5b1",
   "metadata": {},
   "outputs": [
    {
     "data": {
      "text/plain": [
       "array([31,  4, 22, 41])"
      ]
     },
     "execution_count": 41,
     "metadata": {},
     "output_type": "execute_result"
    }
   ],
   "source": [
    "x[:,0]"
   ]
  },
  {
   "cell_type": "code",
   "execution_count": 42,
   "id": "1a583958",
   "metadata": {},
   "outputs": [
    {
     "data": {
      "text/plain": [
       "array([[31],\n",
       "       [ 4],\n",
       "       [22],\n",
       "       [41]])"
      ]
     },
     "execution_count": 42,
     "metadata": {},
     "output_type": "execute_result"
    }
   ],
   "source": [
    "x[:,0:1]"
   ]
  },
  {
   "cell_type": "code",
   "execution_count": 43,
   "id": "73420f6e",
   "metadata": {},
   "outputs": [
    {
     "data": {
      "text/plain": [
       "array([[31, 31, 16],\n",
       "       [ 4, 17, 18]])"
      ]
     },
     "execution_count": 43,
     "metadata": {},
     "output_type": "execute_result"
    }
   ],
   "source": [
    "# 0 and 1st row, 0,1 and 2nd col\n",
    "x[0:2,0:3]"
   ]
  },
  {
   "cell_type": "code",
   "execution_count": 44,
   "id": "772e57bf",
   "metadata": {},
   "outputs": [
    {
     "data": {
      "text/plain": [
       "array([[31, 31, 16, 29,  3, 12],\n",
       "       [ 4, 17, 18, 42, 19, 23],\n",
       "       [22, 37, 11, 46, 15,  9],\n",
       "       [41, 19, 14, 45, 16, 14]])"
      ]
     },
     "execution_count": 44,
     "metadata": {},
     "output_type": "execute_result"
    }
   ],
   "source": [
    "x"
   ]
  },
  {
   "cell_type": "code",
   "execution_count": 45,
   "id": "31bcd51d",
   "metadata": {},
   "outputs": [
    {
     "data": {
      "text/plain": [
       "array([[31, 31, 16, 29,  3, 12],\n",
       "       [22, 37, 11, 46, 15,  9]])"
      ]
     },
     "execution_count": 45,
     "metadata": {},
     "output_type": "execute_result"
    }
   ],
   "source": [
    "x[[0,2]]"
   ]
  },
  {
   "cell_type": "code",
   "execution_count": 46,
   "id": "da411316",
   "metadata": {},
   "outputs": [
    {
     "data": {
      "text/plain": [
       "array([[31, 16,  3],\n",
       "       [ 4, 18, 19],\n",
       "       [22, 11, 15],\n",
       "       [41, 14, 16]])"
      ]
     },
     "execution_count": 46,
     "metadata": {},
     "output_type": "execute_result"
    }
   ],
   "source": [
    "x[:, [0,2,4]]"
   ]
  },
  {
   "cell_type": "code",
   "execution_count": 50,
   "id": "ec8c54e6",
   "metadata": {},
   "outputs": [
    {
     "data": {
      "text/plain": [
       "array([[31, 31, 16, 29,  3, 12],\n",
       "       [ 4, 17, 18, 42, 19, 23],\n",
       "       [22, 37, 11, 46, 15,  9],\n",
       "       [41, 19, 14, 45, 16, 14]])"
      ]
     },
     "execution_count": 50,
     "metadata": {},
     "output_type": "execute_result"
    }
   ],
   "source": [
    "x"
   ]
  },
  {
   "cell_type": "code",
   "execution_count": 51,
   "id": "16599941",
   "metadata": {},
   "outputs": [
    {
     "data": {
      "text/plain": [
       "(4, 6)"
      ]
     },
     "execution_count": 51,
     "metadata": {},
     "output_type": "execute_result"
    }
   ],
   "source": [
    "x.shape"
   ]
  },
  {
   "cell_type": "code",
   "execution_count": 52,
   "id": "06d911c6",
   "metadata": {},
   "outputs": [
    {
     "data": {
      "text/plain": [
       "array([31, 31, 16, 29,  3, 12,  4, 17, 18, 42, 19, 23, 22, 37, 11, 46, 15,\n",
       "        9, 41, 19, 14, 45, 16, 14])"
      ]
     },
     "execution_count": 52,
     "metadata": {},
     "output_type": "execute_result"
    }
   ],
   "source": [
    "# convers n-dimension to 1D\n",
    "x.flatten()"
   ]
  },
  {
   "cell_type": "code",
   "execution_count": 53,
   "id": "fe15104d",
   "metadata": {},
   "outputs": [],
   "source": [
    "x = x.flatten()"
   ]
  },
  {
   "cell_type": "code",
   "execution_count": 54,
   "id": "c6ad5db9",
   "metadata": {},
   "outputs": [
    {
     "data": {
      "text/plain": [
       "array([31, 31, 16, 29,  3, 12,  4, 17, 18, 42, 19, 23, 22, 37, 11, 46, 15,\n",
       "        9, 41, 19, 14, 45, 16, 14])"
      ]
     },
     "execution_count": 54,
     "metadata": {},
     "output_type": "execute_result"
    }
   ],
   "source": [
    "x"
   ]
  },
  {
   "cell_type": "code",
   "execution_count": 55,
   "id": "75847be7",
   "metadata": {},
   "outputs": [
    {
     "data": {
      "text/plain": [
       "24"
      ]
     },
     "execution_count": 55,
     "metadata": {},
     "output_type": "execute_result"
    }
   ],
   "source": [
    "x.size"
   ]
  },
  {
   "cell_type": "code",
   "execution_count": 56,
   "id": "c068ace1",
   "metadata": {},
   "outputs": [
    {
     "data": {
      "text/plain": [
       "24"
      ]
     },
     "execution_count": 56,
     "metadata": {},
     "output_type": "execute_result"
    }
   ],
   "source": [
    "len(x)"
   ]
  },
  {
   "cell_type": "code",
   "execution_count": 57,
   "id": "57c3a8d3",
   "metadata": {},
   "outputs": [
    {
     "data": {
      "text/plain": [
       "array([[31, 31, 16, 29,  3, 12],\n",
       "       [ 4, 17, 18, 42, 19, 23],\n",
       "       [22, 37, 11, 46, 15,  9],\n",
       "       [41, 19, 14, 45, 16, 14]])"
      ]
     },
     "execution_count": 57,
     "metadata": {},
     "output_type": "execute_result"
    }
   ],
   "source": [
    "x.reshape((4,6))"
   ]
  },
  {
   "cell_type": "code",
   "execution_count": 58,
   "id": "3d0ab71c",
   "metadata": {},
   "outputs": [
    {
     "data": {
      "text/plain": [
       "array([[31, 31, 16, 29],\n",
       "       [ 3, 12,  4, 17],\n",
       "       [18, 42, 19, 23],\n",
       "       [22, 37, 11, 46],\n",
       "       [15,  9, 41, 19],\n",
       "       [14, 45, 16, 14]])"
      ]
     },
     "execution_count": 58,
     "metadata": {},
     "output_type": "execute_result"
    }
   ],
   "source": [
    "x.reshape((6,-1))"
   ]
  },
  {
   "cell_type": "code",
   "execution_count": 59,
   "id": "3fa048f1",
   "metadata": {},
   "outputs": [
    {
     "data": {
      "text/plain": [
       "array([[31, 31, 16, 29,  3, 12,  4, 17, 18, 42, 19, 23],\n",
       "       [22, 37, 11, 46, 15,  9, 41, 19, 14, 45, 16, 14]])"
      ]
     },
     "execution_count": 59,
     "metadata": {},
     "output_type": "execute_result"
    }
   ],
   "source": [
    "x.reshape((-1,12))"
   ]
  },
  {
   "cell_type": "code",
   "execution_count": 60,
   "id": "ca321a18",
   "metadata": {},
   "outputs": [
    {
     "data": {
      "text/plain": [
       "534"
      ]
     },
     "execution_count": 60,
     "metadata": {},
     "output_type": "execute_result"
    }
   ],
   "source": [
    "np.sum(x)"
   ]
  },
  {
   "cell_type": "code",
   "execution_count": 62,
   "id": "3508abbc",
   "metadata": {},
   "outputs": [],
   "source": [
    "x = x.reshape((4,6))"
   ]
  },
  {
   "cell_type": "code",
   "execution_count": 63,
   "id": "aca920be",
   "metadata": {},
   "outputs": [
    {
     "data": {
      "text/plain": [
       "array([[31, 31, 16, 29,  3, 12],\n",
       "       [ 4, 17, 18, 42, 19, 23],\n",
       "       [22, 37, 11, 46, 15,  9],\n",
       "       [41, 19, 14, 45, 16, 14]])"
      ]
     },
     "execution_count": 63,
     "metadata": {},
     "output_type": "execute_result"
    }
   ],
   "source": [
    "x"
   ]
  },
  {
   "cell_type": "code",
   "execution_count": 67,
   "id": "5f75caad",
   "metadata": {},
   "outputs": [
    {
     "data": {
      "text/plain": [
       "array([ 98, 104,  59, 162,  53,  58])"
      ]
     },
     "execution_count": 67,
     "metadata": {},
     "output_type": "execute_result"
    }
   ],
   "source": [
    "np.sum(x, axis=0)"
   ]
  },
  {
   "cell_type": "code",
   "execution_count": 66,
   "id": "de2d5a5f",
   "metadata": {},
   "outputs": [
    {
     "data": {
      "text/plain": [
       "array([122, 123, 140, 149])"
      ]
     },
     "execution_count": 66,
     "metadata": {},
     "output_type": "execute_result"
    }
   ],
   "source": [
    "np.sum(x, axis=1)"
   ]
  },
  {
   "cell_type": "code",
   "execution_count": 68,
   "id": "e6b9587e",
   "metadata": {},
   "outputs": [
    {
     "data": {
      "text/plain": [
       "22.25"
      ]
     },
     "execution_count": 68,
     "metadata": {},
     "output_type": "execute_result"
    }
   ],
   "source": [
    "np.mean(x)"
   ]
  },
  {
   "cell_type": "code",
   "execution_count": 69,
   "id": "8f4b5616",
   "metadata": {},
   "outputs": [
    {
     "data": {
      "text/plain": [
       "array([20.33333333, 20.5       , 23.33333333, 24.83333333])"
      ]
     },
     "execution_count": 69,
     "metadata": {},
     "output_type": "execute_result"
    }
   ],
   "source": [
    "np.mean(x, axis=1)"
   ]
  },
  {
   "cell_type": "code",
   "execution_count": 70,
   "id": "708c53c6",
   "metadata": {},
   "outputs": [
    {
     "data": {
      "text/plain": [
       "12.390352429746837"
      ]
     },
     "execution_count": 70,
     "metadata": {},
     "output_type": "execute_result"
    }
   ],
   "source": [
    "np.std(x)"
   ]
  },
  {
   "cell_type": "code",
   "execution_count": 71,
   "id": "05c11dc6",
   "metadata": {},
   "outputs": [
    {
     "data": {
      "text/plain": [
       "153.52083333333334"
      ]
     },
     "execution_count": 71,
     "metadata": {},
     "output_type": "execute_result"
    }
   ],
   "source": [
    "np.var(x)"
   ]
  },
  {
   "cell_type": "code",
   "execution_count": 72,
   "id": "453df189",
   "metadata": {},
   "outputs": [
    {
     "data": {
      "text/plain": [
       "array([[31, 31, 16, 29,  3, 12],\n",
       "       [ 4, 17, 18, 42, 19, 23],\n",
       "       [22, 37, 11, 46, 15,  9],\n",
       "       [41, 19, 14, 45, 16, 14]])"
      ]
     },
     "execution_count": 72,
     "metadata": {},
     "output_type": "execute_result"
    }
   ],
   "source": [
    "x"
   ]
  },
  {
   "cell_type": "code",
   "execution_count": 75,
   "id": "7b4b090f",
   "metadata": {},
   "outputs": [
    {
     "data": {
      "text/plain": [
       "array([[31, 31, 16, 29,  3, 12,  0],\n",
       "       [ 4, 17, 18, 42, 19, 23,  1],\n",
       "       [22, 37, 11, 46, 15,  9,  2],\n",
       "       [41, 19, 14, 45, 16, 14,  3]])"
      ]
     },
     "execution_count": 75,
     "metadata": {},
     "output_type": "execute_result"
    }
   ],
   "source": [
    "np.hstack((x, np.array([[0],[1],[2],[3]])))"
   ]
  },
  {
   "cell_type": "code",
   "execution_count": 76,
   "id": "aed2cc3a",
   "metadata": {},
   "outputs": [
    {
     "data": {
      "text/plain": [
       "array([[31, 31, 16, 29,  3, 12],\n",
       "       [ 4, 17, 18, 42, 19, 23],\n",
       "       [22, 37, 11, 46, 15,  9],\n",
       "       [41, 19, 14, 45, 16, 14],\n",
       "       [ 1,  2,  3,  4,  5,  6]])"
      ]
     },
     "execution_count": 76,
     "metadata": {},
     "output_type": "execute_result"
    }
   ],
   "source": [
    "np.vstack((x, np.array([[1,2,3,4,5,6]])))"
   ]
  },
  {
   "cell_type": "code",
   "execution_count": null,
   "id": "4854f327",
   "metadata": {},
   "outputs": [],
   "source": []
  }
 ],
 "metadata": {
  "kernelspec": {
   "display_name": "Python 3 (ipykernel)",
   "language": "python",
   "name": "python3"
  },
  "language_info": {
   "codemirror_mode": {
    "name": "ipython",
    "version": 3
   },
   "file_extension": ".py",
   "mimetype": "text/x-python",
   "name": "python",
   "nbconvert_exporter": "python",
   "pygments_lexer": "ipython3",
   "version": "3.9.13"
  }
 },
 "nbformat": 4,
 "nbformat_minor": 5
}
