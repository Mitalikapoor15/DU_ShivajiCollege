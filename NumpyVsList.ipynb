{
 "cells": [
  {
   "cell_type": "code",
   "execution_count": 1,
   "id": "f716e02d",
   "metadata": {},
   "outputs": [],
   "source": [
    "import numpy as np"
   ]
  },
  {
   "cell_type": "code",
   "execution_count": 2,
   "id": "4f47b66b",
   "metadata": {},
   "outputs": [],
   "source": [
    "import sys\n",
    "import time"
   ]
  },
  {
   "cell_type": "code",
   "execution_count": 6,
   "id": "d2dc3201",
   "metadata": {},
   "outputs": [],
   "source": [
    "x = np.array([])\n",
    "y = []"
   ]
  },
  {
   "cell_type": "code",
   "execution_count": 7,
   "id": "5c8ec3a2",
   "metadata": {},
   "outputs": [
    {
     "data": {
      "text/plain": [
       "104"
      ]
     },
     "execution_count": 7,
     "metadata": {},
     "output_type": "execute_result"
    }
   ],
   "source": [
    "sys.getsizeof(x)"
   ]
  },
  {
   "cell_type": "code",
   "execution_count": 8,
   "id": "afcd4af1",
   "metadata": {},
   "outputs": [
    {
     "data": {
      "text/plain": [
       "56"
      ]
     },
     "execution_count": 8,
     "metadata": {},
     "output_type": "execute_result"
    }
   ],
   "source": [
    "sys.getsizeof(y)"
   ]
  },
  {
   "cell_type": "code",
   "execution_count": 9,
   "id": "5f5ad180",
   "metadata": {},
   "outputs": [],
   "source": [
    "x = np.array([2])\n",
    "y = [2]"
   ]
  },
  {
   "cell_type": "code",
   "execution_count": 10,
   "id": "e4996671",
   "metadata": {},
   "outputs": [
    {
     "name": "stdout",
     "output_type": "stream",
     "text": [
      "108\n",
      "64\n"
     ]
    }
   ],
   "source": [
    "print(sys.getsizeof(x))\n",
    "print(sys.getsizeof(y))"
   ]
  },
  {
   "cell_type": "code",
   "execution_count": 11,
   "id": "71f854d1",
   "metadata": {},
   "outputs": [],
   "source": [
    "x = np.arange(0,10000)\n",
    "y = list(range(0,10000))"
   ]
  },
  {
   "cell_type": "code",
   "execution_count": 12,
   "id": "96320f2f",
   "metadata": {},
   "outputs": [
    {
     "name": "stdout",
     "output_type": "stream",
     "text": [
      "40104\n",
      "80056\n"
     ]
    }
   ],
   "source": [
    "print(sys.getsizeof(x))\n",
    "print(sys.getsizeof(y))"
   ]
  },
  {
   "cell_type": "code",
   "execution_count": 13,
   "id": "b3461b0a",
   "metadata": {},
   "outputs": [],
   "source": [
    "x1 = np.array([3,1,5,7])\n",
    "x2 = np.array([13,11,15,17])"
   ]
  },
  {
   "cell_type": "code",
   "execution_count": 14,
   "id": "cdb9497e",
   "metadata": {},
   "outputs": [
    {
     "data": {
      "text/plain": [
       "array([16, 12, 20, 24])"
      ]
     },
     "execution_count": 14,
     "metadata": {},
     "output_type": "execute_result"
    }
   ],
   "source": [
    "# Broadcasting\n",
    "x1 + x2"
   ]
  },
  {
   "cell_type": "code",
   "execution_count": 15,
   "id": "a577fdcc",
   "metadata": {},
   "outputs": [],
   "source": [
    "y1 = [3,1,5,7]\n",
    "y2 = [13,11,15,17]"
   ]
  },
  {
   "cell_type": "code",
   "execution_count": 16,
   "id": "e0e33d7a",
   "metadata": {},
   "outputs": [
    {
     "data": {
      "text/plain": [
       "[3, 1, 5, 7, 13, 11, 15, 17]"
      ]
     },
     "execution_count": 16,
     "metadata": {},
     "output_type": "execute_result"
    }
   ],
   "source": [
    "y1 + y2"
   ]
  },
  {
   "cell_type": "code",
   "execution_count": null,
   "id": "65c4e8ca",
   "metadata": {},
   "outputs": [],
   "source": []
  }
 ],
 "metadata": {
  "kernelspec": {
   "display_name": "Python 3 (ipykernel)",
   "language": "python",
   "name": "python3"
  },
  "language_info": {
   "codemirror_mode": {
    "name": "ipython",
    "version": 3
   },
   "file_extension": ".py",
   "mimetype": "text/x-python",
   "name": "python",
   "nbconvert_exporter": "python",
   "pygments_lexer": "ipython3",
   "version": "3.9.13"
  }
 },
 "nbformat": 4,
 "nbformat_minor": 5
}
